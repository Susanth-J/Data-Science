import numpy as np
import matplotlib.pyplot as plt

import keras

from keras.datasets import mnist